{
  "cells": [
    {
      "cell_type": "markdown",
      "metadata": {
        "id": "view-in-github",
        "colab_type": "text"
      },
      "source": [
        "<a href=\"https://colab.research.google.com/github/Dobby-Mphahlele/Problem-set-2/blob/main/Dobby_VoIP_Call_Analysis.ipynb\" target=\"_parent\"><img src=\"https://colab.research.google.com/assets/colab-badge.svg\" alt=\"Open In Colab\"/></a>"
      ]
    },
    {
      "cell_type": "code",
      "source": [
        "!pip install pyspark"
      ],
      "metadata": {
        "id": "FMyuK2Agd1bx",
        "outputId": "c91edf35-b5b8-45da-c20b-9e12e273065e",
        "colab": {
          "base_uri": "https://localhost:8080/"
        }
      },
      "execution_count": 15,
      "outputs": [
        {
          "output_type": "stream",
          "name": "stdout",
          "text": [
            "Requirement already satisfied: pyspark in /usr/local/lib/python3.10/dist-packages (3.5.1)\n",
            "Requirement already satisfied: py4j==0.10.9.7 in /usr/local/lib/python3.10/dist-packages (from pyspark) (0.10.9.7)\n"
          ]
        }
      ]
    },
    {
      "cell_type": "markdown",
      "source": [
        "### 1. Loading the data"
      ],
      "metadata": {
        "id": "at7J2LlXVqsg"
      }
    },
    {
      "cell_type": "code",
      "source": [
        "import pandas as pd\n",
        "from pyspark.sql import SparkSession\n",
        "from pyspark.sql.functions import col, unix_timestamp, sum as spark_sum, min as spark_min, max as spark_max\n",
        "\n",
        "\n",
        "# Initialize Spark session\n",
        "spark = SparkSession.builder.appName(\"IPDR Analysis\").getOrCreate()\n",
        "\n",
        "# GitHub raw file URL\n",
        "url = 'https://raw.githubusercontent.com/Dobby-Mphahlele/Problem-set-2/1b478910cfb09c6768b5ebb490fe80c302d4b5ba/ipdr.csv'\n",
        "\n",
        "# Reading the CSV file into a Pandas DataFrame\n",
        "df_pd = pd.read_csv(url)\n",
        "\n",
        "# Converting Pandas DataFrame to Spark DataFrame\n",
        "spark_df = spark.createDataFrame(df_pd)\n",
        "\n",
        "# Showing the schema and a few rows of the Spark DataFrame\n",
        "spark_df.printSchema()\n",
        "spark_df.show(5)\n"
      ],
      "metadata": {
        "id": "kO3zKjL-d6v4",
        "outputId": "5b97207c-b504-45cd-f396-349494c522a4",
        "colab": {
          "base_uri": "https://localhost:8080/"
        }
      },
      "execution_count": 19,
      "outputs": [
        {
          "output_type": "stream",
          "name": "stdout",
          "text": [
            "root\n",
            " |-- starttime: string (nullable = true)\n",
            " |-- endtime: string (nullable = true)\n",
            " |-- msisdn: long (nullable = true)\n",
            " |-- ulvolume: long (nullable = true)\n",
            " |-- dlvolume: long (nullable = true)\n",
            " |-- domain: string (nullable = true)\n",
            "\n",
            "+------------------+------------------+------+--------+--------+------+\n",
            "|         starttime|           endtime|msisdn|ulvolume|dlvolume|domain|\n",
            "+------------------+------------------+------+--------+--------+------+\n",
            "|2021-04-0212:23:10|2021-04-0212:24:48|     1|   10819|    9960|  app1|\n",
            "|2021-04-0212:28:56|2021-04-0212:33:12|     1|   16067|   10663|  app1|\n",
            "|2021-04-0216:24:21|2021-04-0216:38:28|     2|    1173|    4265|  app1|\n",
            "|2021-04-0215:08:57|2021-04-0215:20:56|     2|    1200|     192|  app2|\n",
            "|2021-04-0215:08:57|2021-04-0215:20:41|     2|  175130|  101657|  app2|\n",
            "+------------------+------------------+------+--------+--------+------+\n",
            "only showing top 5 rows\n",
            "\n"
          ]
        }
      ]
    },
    {
      "cell_type": "markdown",
      "source": [
        "Converting datetime columns to timestamp type"
      ],
      "metadata": {
        "id": "XH0QErrTJY8K"
      }
    },
    {
      "cell_type": "code",
      "source": [
        "\n",
        "spark_df = spark_df.withColumn(\"ST\", unix_timestamp(col(\"starttime\"), \"yyyy-MM-ddHH:mm:ss\").cast(\"timestamp\"))\n",
        "spark_df = spark_df.withColumn(\"ET\", unix_timestamp(col(\"endtime\"), \"yyyy-MM-ddHH:mm:ss\").cast(\"timestamp\"))\n",
        "\n",
        "# Show the updated DataFrame\n",
        "spark_df.dtypes\n"
      ],
      "metadata": {
        "id": "TxJ41EDgefun",
        "outputId": "4c39bbec-80ee-448a-980f-d99fc0c09464",
        "colab": {
          "base_uri": "https://localhost:8080/"
        }
      },
      "execution_count": 22,
      "outputs": [
        {
          "output_type": "execute_result",
          "data": {
            "text/plain": [
              "[('starttime', 'string'),\n",
              " ('endtime', 'string'),\n",
              " ('msisdn', 'bigint'),\n",
              " ('ulvolume', 'bigint'),\n",
              " ('dlvolume', 'bigint'),\n",
              " ('domain', 'string'),\n",
              " ('ST', 'timestamp'),\n",
              " ('ET', 'timestamp')]"
            ]
          },
          "metadata": {},
          "execution_count": 22
        }
      ]
    },
    {
      "cell_type": "markdown",
      "source": [
        "### 1. Selecting each MSISDN and specific start and end datetime domain/app wise:"
      ],
      "metadata": {
        "id": "-99NnOv3J4Jo"
      }
    },
    {
      "cell_type": "code",
      "source": [
        "# Group by MSISDN, domain, and VoIP APP to identify each call\n",
        "call_df = spark_df.groupBy(\"msisdn\", \"domain\").agg(\n",
        "    spark_min(\"starttime\").alias(\"First_ST\"),\n",
        "    spark_max(\"endtime\").alias(\"Last_ET\"),\n",
        "    spark_sum(\"dlvolume\").alias(\"Total_DL_Volume\"),\n",
        "    spark_sum(\"ulvolume\").alias(\"Total_UL_Volume\")\n",
        ")\n",
        "\n",
        "# Show the aggregated data\n",
        "call_df.show()\n"
      ],
      "metadata": {
        "id": "c4t12SSiewY7",
        "outputId": "a846af22-9b3b-43f3-c442-2f79487dc6bf",
        "colab": {
          "base_uri": "https://localhost:8080/"
        }
      },
      "execution_count": 23,
      "outputs": [
        {
          "output_type": "stream",
          "name": "stdout",
          "text": [
            "+------+------+------------------+------------------+---------------+---------------+\n",
            "|msisdn|domain|          First_ST|           Last_ET|Total_DL_Volume|Total_UL_Volume|\n",
            "+------+------+------------------+------------------+---------------+---------------+\n",
            "|     1|  app1|2021-04-0212:23:10|2021-04-0212:33:12|          20623|          26886|\n",
            "|     2|  app1|2021-04-0216:24:21|2021-04-0216:38:28|           4265|           1173|\n",
            "|     2|  app2|2021-04-0215:08:57|2021-04-0215:21:08|         103001|         182882|\n",
            "|     3|  app3|2021-04-0215:54:46|2021-04-0216:11:49|        1801756|        2104664|\n",
            "|     3|  app4|2021-04-0212:13:11|2021-04-0217:57:03|        8287876|        8034960|\n",
            "|     4|  app3|2021-04-0212:14:42|2021-04-0221:04:25|         415065|         667564|\n",
            "|     4|  app4|2021-04-0222:27:36|2021-04-0222:34:55|          33656|         218076|\n",
            "+------+------+------------------+------------------+---------------+---------------+\n",
            "\n"
          ]
        }
      ]
    },
    {
      "cell_type": "markdown",
      "source": [
        "### Calculating ET(ET-10 min) for each FDR and handling idle time exclusion"
      ],
      "metadata": {
        "id": "gmCPElrgon_L"
      }
    },
    {
      "cell_type": "code",
      "source": [
        "from pyspark.sql.functions import expr, col\n",
        "\n",
        "# Calculate ET - 10 minutes, handling nulls with COALESCE\n",
        "call_df = call_df.withColumn(\"ET_minus_10min\", expr(\"COALESCE(Last_ET - interval 10 minutes, Last_ET)\"))\n",
        "\n",
        "# If ET-10 min < ST, keep the original ET\n",
        "call_df = call_df.withColumn(\"Final_ET\", expr(\"CASE WHEN COALESCE(ET_minus_10min, Last_ET) < First_ST THEN Last_ET ELSE ET_minus_10min END\"))\n",
        "\n",
        "# Show the updated DataFrame\n",
        "call_df.show()\n",
        "\n"
      ],
      "metadata": {
        "id": "J2h5KeUDf5Yb",
        "outputId": "627a8763-3aa7-411f-9281-eed49f03aeb7",
        "colab": {
          "base_uri": "https://localhost:8080/"
        }
      },
      "execution_count": 24,
      "outputs": [
        {
          "output_type": "stream",
          "name": "stdout",
          "text": [
            "+------+------+------------------+------------------+---------------+---------------+------------------+------------------+\n",
            "|msisdn|domain|          First_ST|           Last_ET|Total_DL_Volume|Total_UL_Volume|    ET_minus_10min|          Final_ET|\n",
            "+------+------+------------------+------------------+---------------+---------------+------------------+------------------+\n",
            "|     1|  app1|2021-04-0212:23:10|2021-04-0212:33:12|          20623|          26886|2021-04-0212:33:12|2021-04-0212:33:12|\n",
            "|     2|  app1|2021-04-0216:24:21|2021-04-0216:38:28|           4265|           1173|2021-04-0216:38:28|2021-04-0216:38:28|\n",
            "|     2|  app2|2021-04-0215:08:57|2021-04-0215:21:08|         103001|         182882|2021-04-0215:21:08|2021-04-0215:21:08|\n",
            "|     3|  app3|2021-04-0215:54:46|2021-04-0216:11:49|        1801756|        2104664|2021-04-0216:11:49|2021-04-0216:11:49|\n",
            "|     3|  app4|2021-04-0212:13:11|2021-04-0217:57:03|        8287876|        8034960|2021-04-0217:57:03|2021-04-0217:57:03|\n",
            "|     4|  app3|2021-04-0212:14:42|2021-04-0221:04:25|         415065|         667564|2021-04-0221:04:25|2021-04-0221:04:25|\n",
            "|     4|  app4|2021-04-0222:27:36|2021-04-0222:34:55|          33656|         218076|2021-04-0222:34:55|2021-04-0222:34:55|\n",
            "+------+------+------------------+------------------+---------------+---------------+------------------+------------------+\n",
            "\n"
          ]
        }
      ]
    },
    {
      "cell_type": "markdown",
      "source": [
        "### Calculating total volume of each call in Kb"
      ],
      "metadata": {
        "id": "XToqLT2OYfyT"
      }
    },
    {
      "cell_type": "markdown",
      "source": [],
      "metadata": {
        "id": "sfnFVi2UXzxW"
      }
    },
    {
      "cell_type": "code",
      "source": [
        "# Calculating total volume in Kb (since UL and DL volumes are in bytes)\n",
        "call_df = call_df.withColumn(\"Total_Volume_Kb\", (col(\"Total_DL_Volume\") + col(\"Total_UL_Volume\")) / 1024)\n",
        "\n",
        "# Registering ipdr as a temporary view\n",
        "call_df.createOrReplaceTempView('ipdr')\n",
        "# Showing the updated DataFrame\n",
        "call_df.show()\n",
        "\n"
      ],
      "metadata": {
        "id": "ibOPaUfTtPk1",
        "outputId": "ede99f77-de80-479a-ef92-f0fc1b48ec05",
        "colab": {
          "base_uri": "https://localhost:8080/"
        }
      },
      "execution_count": 30,
      "outputs": [
        {
          "output_type": "stream",
          "name": "stdout",
          "text": [
            "+------+------+------------------+------------------+---------------+---------------+------------------+------------------+---------------+\n",
            "|msisdn|domain|          First_ST|           Last_ET|Total_DL_Volume|Total_UL_Volume|    ET_minus_10min|          Final_ET|Total_Volume_Kb|\n",
            "+------+------+------------------+------------------+---------------+---------------+------------------+------------------+---------------+\n",
            "|     1|  app1|2021-04-0212:23:10|2021-04-0212:33:12|          20623|          26886|2021-04-0212:33:12|2021-04-0212:33:12|  46.3955078125|\n",
            "|     2|  app1|2021-04-0216:24:21|2021-04-0216:38:28|           4265|           1173|2021-04-0216:38:28|2021-04-0216:38:28|    5.310546875|\n",
            "|     2|  app2|2021-04-0215:08:57|2021-04-0215:21:08|         103001|         182882|2021-04-0215:21:08|2021-04-0215:21:08| 279.1826171875|\n",
            "|     3|  app3|2021-04-0215:54:46|2021-04-0216:11:49|        1801756|        2104664|2021-04-0216:11:49|2021-04-0216:11:49|  3814.86328125|\n",
            "|     3|  app4|2021-04-0212:13:11|2021-04-0217:57:03|        8287876|        8034960|2021-04-0217:57:03|2021-04-0217:57:03| 15940.26953125|\n",
            "|     4|  app3|2021-04-0212:14:42|2021-04-0221:04:25|         415065|         667564|2021-04-0221:04:25|2021-04-0221:04:25|1057.2548828125|\n",
            "|     4|  app4|2021-04-0222:27:36|2021-04-0222:34:55|          33656|         218076|2021-04-0222:34:55|2021-04-0222:34:55|   245.83203125|\n",
            "+------+------+------------------+------------------+---------------+---------------+------------------+------------------+---------------+\n",
            "\n"
          ]
        }
      ]
    },
    {
      "cell_type": "markdown",
      "source": [
        "### Calculating total time of each call in seconds"
      ],
      "metadata": {
        "id": "0cGdDWl_YzSF"
      }
    },
    {
      "cell_type": "code",
      "source": [
        "from pyspark.sql.functions import unix_timestamp, col\n",
        "\n",
        "# Calculate total time in seconds\n",
        "total_time_df = spark.sql(\"\"\"\n",
        "  SELECT\n",
        "    *,\n",
        "    (UNIX_TIMESTAMP(Last_ET, \"yyyy-MM-ddHH:mm:ss\") - UNIX_TIMESTAMP(First_ST, \"yyyy-MM-ddHH:mm:ss\")) AS Total_Time_Sec\n",
        "  FROM ipdr\n",
        "\"\"\")\n",
        "total_time_df.createOrReplaceTempView(\"volume_time_ipdr\")\n",
        "total_time_df.show()\n",
        "\n",
        "\n",
        "\n",
        "\n"
      ],
      "metadata": {
        "id": "PKIZpyxSvUSo",
        "outputId": "ce10b5dd-0c86-4068-deac-3d41249a4605",
        "colab": {
          "base_uri": "https://localhost:8080/"
        }
      },
      "execution_count": 36,
      "outputs": [
        {
          "output_type": "stream",
          "name": "stdout",
          "text": [
            "+------+------+------------------+------------------+---------------+---------------+------------------+------------------+---------------+--------------+\n",
            "|msisdn|domain|          First_ST|           Last_ET|Total_DL_Volume|Total_UL_Volume|    ET_minus_10min|          Final_ET|Total_Volume_Kb|Total_Time_Sec|\n",
            "+------+------+------------------+------------------+---------------+---------------+------------------+------------------+---------------+--------------+\n",
            "|     1|  app1|2021-04-0212:23:10|2021-04-0212:33:12|          20623|          26886|2021-04-0212:33:12|2021-04-0212:33:12|  46.3955078125|           602|\n",
            "|     2|  app1|2021-04-0216:24:21|2021-04-0216:38:28|           4265|           1173|2021-04-0216:38:28|2021-04-0216:38:28|    5.310546875|           847|\n",
            "|     2|  app2|2021-04-0215:08:57|2021-04-0215:21:08|         103001|         182882|2021-04-0215:21:08|2021-04-0215:21:08| 279.1826171875|           731|\n",
            "|     3|  app3|2021-04-0215:54:46|2021-04-0216:11:49|        1801756|        2104664|2021-04-0216:11:49|2021-04-0216:11:49|  3814.86328125|          1023|\n",
            "|     3|  app4|2021-04-0212:13:11|2021-04-0217:57:03|        8287876|        8034960|2021-04-0217:57:03|2021-04-0217:57:03| 15940.26953125|         20632|\n",
            "|     4|  app3|2021-04-0212:14:42|2021-04-0221:04:25|         415065|         667564|2021-04-0221:04:25|2021-04-0221:04:25|1057.2548828125|         31783|\n",
            "|     4|  app4|2021-04-0222:27:36|2021-04-0222:34:55|          33656|         218076|2021-04-0222:34:55|2021-04-0222:34:55|   245.83203125|           439|\n",
            "+------+------+------------------+------------------+---------------+---------------+------------------+------------------+---------------+--------------+\n",
            "\n"
          ]
        }
      ]
    },
    {
      "cell_type": "markdown",
      "source": [
        "### Calculating bit rate (kbps) of each call"
      ],
      "metadata": {
        "id": "cEomszsOI29r"
      }
    },
    {
      "cell_type": "code",
      "source": [
        "bit_rate_df = spark.sql(\n",
        "    \"\"\"\n",
        "    SELECT\n",
        "      *,\n",
        "    ((Total_Volume_Kb) / (Total_Time_Sec)) * 1000  AS Bit_Rate_Kbps\n",
        "    FROM volume_time_ipdr\n",
        "  \"\"\"\n",
        ")\n",
        "bit_rate_df.createOrReplaceTempView(\"bit_rate_ipdr\")\n",
        "bit_rate_df.show()"
      ],
      "metadata": {
        "id": "bZJK0_Y0IeSw",
        "outputId": "56431a8c-8380-4278-c40f-672f833dd919",
        "colab": {
          "base_uri": "https://localhost:8080/"
        }
      },
      "execution_count": 45,
      "outputs": [
        {
          "output_type": "stream",
          "name": "stdout",
          "text": [
            "+------+------+------------------+------------------+---------------+---------------+------------------+------------------+---------------+--------------+------------------+\n",
            "|msisdn|domain|          First_ST|           Last_ET|Total_DL_Volume|Total_UL_Volume|    ET_minus_10min|          Final_ET|Total_Volume_Kb|Total_Time_Sec|     Bit_Rate_Kbps|\n",
            "+------+------+------------------+------------------+---------------+---------------+------------------+------------------+---------------+--------------+------------------+\n",
            "|     1|  app1|2021-04-0212:23:10|2021-04-0212:33:12|          20623|          26886|2021-04-0212:33:12|2021-04-0212:33:12|  46.3955078125|           602| 77.06894985465117|\n",
            "|     2|  app1|2021-04-0216:24:21|2021-04-0216:38:28|           4265|           1173|2021-04-0216:38:28|2021-04-0216:38:28|    5.310546875|           847| 6.269831021251475|\n",
            "|     2|  app2|2021-04-0215:08:57|2021-04-0215:21:08|         103001|         182882|2021-04-0215:21:08|2021-04-0215:21:08| 279.1826171875|           731| 381.9187649623803|\n",
            "|     3|  app3|2021-04-0215:54:46|2021-04-0216:11:49|        1801756|        2104664|2021-04-0216:11:49|2021-04-0216:11:49|  3814.86328125|          1023| 3729.094116568915|\n",
            "|     3|  app4|2021-04-0212:13:11|2021-04-0217:57:03|        8287876|        8034960|2021-04-0217:57:03|2021-04-0217:57:03| 15940.26953125|         20632| 772.5993374975766|\n",
            "|     4|  app3|2021-04-0212:14:42|2021-04-0221:04:25|         415065|         667564|2021-04-0221:04:25|2021-04-0221:04:25|1057.2548828125|         31783|33.264791958358245|\n",
            "|     4|  app4|2021-04-0222:27:36|2021-04-0222:34:55|          33656|         218076|2021-04-0222:34:55|2021-04-0222:34:55|   245.83203125|           439| 559.9818479498862|\n",
            "+------+------+------------------+------------------+---------------+---------------+------------------+------------------+---------------+--------------+------------------+\n",
            "\n"
          ]
        }
      ]
    },
    {
      "cell_type": "markdown",
      "source": [
        "### Identification of Audio or Video call and its count"
      ],
      "metadata": {
        "id": "DyeTEn6DZFU3"
      }
    },
    {
      "cell_type": "code",
      "source": [
        "result_df = spark.sql(\"\"\"\n",
        "SELECT\n",
        "    *,\n",
        "    CASE\n",
        "        WHEN Bit_Rate_Kbps <= 200 THEN 'Yes'\n",
        "        ELSE 'No'\n",
        "    END AS isAudio,\n",
        "    CASE\n",
        "        WHEN Bit_Rate_Kbps > 200 THEN 'Yes'\n",
        "        ELSE 'No'\n",
        "    END AS isVideo\n",
        "FROM bit_rate_ipdr\n",
        "WHERE Bit_Rate_Kbps >= 10  --- Filtering out calls with bit rate < 10 kbps\n",
        "\"\"\"\n",
        "\n",
        ")\n",
        "result_df.show()"
      ],
      "metadata": {
        "id": "618svWxA8Ayw",
        "outputId": "384cb5fe-74fb-498c-ac86-5cdf56e62fde",
        "colab": {
          "base_uri": "https://localhost:8080/"
        }
      },
      "execution_count": 47,
      "outputs": [
        {
          "output_type": "stream",
          "name": "stdout",
          "text": [
            "+------+------+------------------+------------------+---------------+---------------+------------------+------------------+---------------+--------------+------------------+-------+-------+\n",
            "|msisdn|domain|          First_ST|           Last_ET|Total_DL_Volume|Total_UL_Volume|    ET_minus_10min|          Final_ET|Total_Volume_Kb|Total_Time_Sec|     Bit_Rate_Kbps|isAudio|isVideo|\n",
            "+------+------+------------------+------------------+---------------+---------------+------------------+------------------+---------------+--------------+------------------+-------+-------+\n",
            "|     1|  app1|2021-04-0212:23:10|2021-04-0212:33:12|          20623|          26886|2021-04-0212:33:12|2021-04-0212:33:12|  46.3955078125|           602| 77.06894985465117|    Yes|     No|\n",
            "|     2|  app2|2021-04-0215:08:57|2021-04-0215:21:08|         103001|         182882|2021-04-0215:21:08|2021-04-0215:21:08| 279.1826171875|           731| 381.9187649623803|     No|    Yes|\n",
            "|     3|  app3|2021-04-0215:54:46|2021-04-0216:11:49|        1801756|        2104664|2021-04-0216:11:49|2021-04-0216:11:49|  3814.86328125|          1023| 3729.094116568915|     No|    Yes|\n",
            "|     3|  app4|2021-04-0212:13:11|2021-04-0217:57:03|        8287876|        8034960|2021-04-0217:57:03|2021-04-0217:57:03| 15940.26953125|         20632| 772.5993374975766|     No|    Yes|\n",
            "|     4|  app3|2021-04-0212:14:42|2021-04-0221:04:25|         415065|         667564|2021-04-0221:04:25|2021-04-0221:04:25|1057.2548828125|         31783|33.264791958358245|    Yes|     No|\n",
            "|     4|  app4|2021-04-0222:27:36|2021-04-0222:34:55|          33656|         218076|2021-04-0222:34:55|2021-04-0222:34:55|   245.83203125|           439| 559.9818479498862|     No|    Yes|\n",
            "+------+------+------------------+------------------+---------------+---------------+------------------+------------------+---------------+--------------+------------------+-------+-------+\n",
            "\n"
          ]
        }
      ]
    },
    {
      "cell_type": "markdown",
      "source": [
        "### Result"
      ],
      "metadata": {
        "id": "piHUEQwlbC_c"
      }
    },
    {
      "cell_type": "code",
      "source": [
        "\n",
        "result_df.select(\"msisdn\", \"domain\", \"Total_Time_Sec\", \"Total_Volume_Kb\", \"Bit_Rate_kbps\", \"isAudio\", \"isVideo\")\n",
        "result_df.show(truncate=False)\n",
        "\n"
      ],
      "metadata": {
        "id": "hpc3PTvvZZ-f",
        "outputId": "15729828-8cd9-4b16-96a5-1a9ed0e0faa0",
        "colab": {
          "base_uri": "https://localhost:8080/"
        }
      },
      "execution_count": 48,
      "outputs": [
        {
          "output_type": "stream",
          "name": "stdout",
          "text": [
            "+------+------+------------------+------------------+---------------+---------------+------------------+------------------+---------------+--------------+------------------+-------+-------+\n",
            "|msisdn|domain|First_ST          |Last_ET           |Total_DL_Volume|Total_UL_Volume|ET_minus_10min    |Final_ET          |Total_Volume_Kb|Total_Time_Sec|Bit_Rate_Kbps     |isAudio|isVideo|\n",
            "+------+------+------------------+------------------+---------------+---------------+------------------+------------------+---------------+--------------+------------------+-------+-------+\n",
            "|1     |app1  |2021-04-0212:23:10|2021-04-0212:33:12|20623          |26886          |2021-04-0212:33:12|2021-04-0212:33:12|46.3955078125  |602           |77.06894985465117 |Yes    |No     |\n",
            "|2     |app2  |2021-04-0215:08:57|2021-04-0215:21:08|103001         |182882         |2021-04-0215:21:08|2021-04-0215:21:08|279.1826171875 |731           |381.9187649623803 |No     |Yes    |\n",
            "|3     |app3  |2021-04-0215:54:46|2021-04-0216:11:49|1801756        |2104664        |2021-04-0216:11:49|2021-04-0216:11:49|3814.86328125  |1023          |3729.094116568915 |No     |Yes    |\n",
            "|3     |app4  |2021-04-0212:13:11|2021-04-0217:57:03|8287876        |8034960        |2021-04-0217:57:03|2021-04-0217:57:03|15940.26953125 |20632         |772.5993374975766 |No     |Yes    |\n",
            "|4     |app3  |2021-04-0212:14:42|2021-04-0221:04:25|415065         |667564         |2021-04-0221:04:25|2021-04-0221:04:25|1057.2548828125|31783         |33.264791958358245|Yes    |No     |\n",
            "|4     |app4  |2021-04-0222:27:36|2021-04-0222:34:55|33656          |218076         |2021-04-0222:34:55|2021-04-0222:34:55|245.83203125   |439           |559.9818479498862 |No     |Yes    |\n",
            "+------+------+------------------+------------------+---------------+---------------+------------------+------------------+---------------+--------------+------------------+-------+-------+\n",
            "\n"
          ]
        }
      ]
    },
    {
      "cell_type": "code",
      "source": [
        "# Registering final_df as a temporary view\n",
        "result_df.createOrReplaceTempView(\"result_df\")\n",
        "\n",
        "# Perform the aggregation using Spark SQL\n",
        "final_df = spark.sql(\"\"\"\n",
        "  SELECT\n",
        "    msisdn,\n",
        "    domain,\n",
        "    Total_Time_Sec,\n",
        "    Total_Volume_Kb,\n",
        "    Bit_Rate_kbps as kbps,\n",
        "    COUNT(*) OVER (PARTITION BY msisdn) AS fdr_count,\n",
        "    isAudio,\n",
        "    isVideo\n",
        "  FROM result_df\n",
        "  GROUP BY msisdn, domain, Total_Time_Sec, Total_Volume_Kb, Bit_Rate_kbps, isAudio, isVideo\n",
        "\"\"\")\n",
        "\n",
        "final_df.show(truncate=False)\n",
        "\n",
        "\n"
      ],
      "metadata": {
        "id": "xk5B7SjifcxJ",
        "outputId": "78b7c9eb-a529-4ad0-ca42-ef70f020e82d",
        "colab": {
          "base_uri": "https://localhost:8080/"
        }
      },
      "execution_count": 50,
      "outputs": [
        {
          "output_type": "stream",
          "name": "stdout",
          "text": [
            "+------+------+--------------+---------------+------------------+---------+-------+-------+\n",
            "|msisdn|domain|Total_Time_Sec|Total_Volume_Kb|kbps              |fdr_count|isAudio|isVideo|\n",
            "+------+------+--------------+---------------+------------------+---------+-------+-------+\n",
            "|1     |app1  |602           |46.3955078125  |77.06894985465117 |1        |Yes    |No     |\n",
            "|2     |app2  |731           |279.1826171875 |381.9187649623803 |1        |No     |Yes    |\n",
            "|3     |app3  |1023          |3814.86328125  |3729.094116568915 |2        |No     |Yes    |\n",
            "|3     |app4  |20632         |15940.26953125 |772.5993374975766 |2        |No     |Yes    |\n",
            "|4     |app3  |31783         |1057.2548828125|33.264791958358245|2        |Yes    |No     |\n",
            "|4     |app4  |439           |245.83203125   |559.9818479498862 |2        |No     |Yes    |\n",
            "+------+------+--------------+---------------+------------------+---------+-------+-------+\n",
            "\n"
          ]
        }
      ]
    }
  ],
  "metadata": {
    "colab": {
      "provenance": [],
      "include_colab_link": true
    },
    "kernelspec": {
      "display_name": "Python 3",
      "name": "python3"
    }
  },
  "nbformat": 4,
  "nbformat_minor": 0
}