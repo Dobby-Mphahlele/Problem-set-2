{
  "nbformat": 4,
  "nbformat_minor": 0,
  "metadata": {
    "colab": {
      "provenance": [],
      "authorship_tag": "ABX9TyM5VvWB3eer6oVkCetNggBa",
      "include_colab_link": true
    },
    "kernelspec": {
      "name": "python3",
      "display_name": "Python 3"
    },
    "language_info": {
      "name": "python"
    }
  },
  "cells": [
    {
      "cell_type": "markdown",
      "metadata": {
        "id": "view-in-github",
        "colab_type": "text"
      },
      "source": [
        "<a href=\"https://colab.research.google.com/github/Dobby-Mphahlele/Problem-set-2/blob/main/solution_notebook.ipynb\" target=\"_parent\"><img src=\"https://colab.research.google.com/assets/colab-badge.svg\" alt=\"Open In Colab\"/></a>"
      ]
    },
    {
      "cell_type": "markdown",
      "source": [],
      "metadata": {
        "id": "o9JkXhcaZKu6"
      }
    },
    {
      "cell_type": "code",
      "execution_count": 1,
      "metadata": {
        "colab": {
          "base_uri": "https://localhost:8080/"
        },
        "collapsed": true,
        "id": "-wKitB-pXrZi",
        "outputId": "4e1c2396-b8c1-45d7-9239-69f2cb753a87"
      },
      "outputs": [
        {
          "output_type": "stream",
          "name": "stdout",
          "text": [
            "Collecting pyspark\n",
            "  Downloading pyspark-3.5.1.tar.gz (317.0 MB)\n",
            "\u001b[2K     \u001b[90m━━━━━━━━━━━━━━━━━━━━━━━━━━━━━━━━━━━━━━━━\u001b[0m \u001b[32m317.0/317.0 MB\u001b[0m \u001b[31m1.3 MB/s\u001b[0m eta \u001b[36m0:00:00\u001b[0m\n",
            "\u001b[?25h  Preparing metadata (setup.py) ... \u001b[?25l\u001b[?25hdone\n",
            "Requirement already satisfied: py4j==0.10.9.7 in /usr/local/lib/python3.10/dist-packages (from pyspark) (0.10.9.7)\n",
            "Building wheels for collected packages: pyspark\n",
            "  Building wheel for pyspark (setup.py) ... \u001b[?25l\u001b[?25hdone\n",
            "  Created wheel for pyspark: filename=pyspark-3.5.1-py2.py3-none-any.whl size=317488491 sha256=46d26a33808e4d2085b3d1e8846be797a39aeaf92d5ecc4d69981c4b6500b70a\n",
            "  Stored in directory: /root/.cache/pip/wheels/80/1d/60/2c256ed38dddce2fdd93be545214a63e02fbd8d74fb0b7f3a6\n",
            "Successfully built pyspark\n",
            "Installing collected packages: pyspark\n",
            "Successfully installed pyspark-3.5.1\n"
          ]
        }
      ],
      "source": [
        "!pip install pyspark\n"
      ]
    },
    {
      "cell_type": "markdown",
      "source": [
        "Initialize Spark session"
      ],
      "metadata": {
        "id": "2DFoxWxIZqDf"
      }
    },
    {
      "cell_type": "code",
      "source": [
        "from pyspark.sql import SparkSession\n",
        "spark = SparkSession.builder \\\n",
        "    .appName(\"Read IPDR CSV into DataFrame\") \\\n",
        "    .getOrCreate()"
      ],
      "metadata": {
        "id": "vKvN0r3OZpSr"
      },
      "execution_count": 7,
      "outputs": []
    },
    {
      "cell_type": "markdown",
      "source": [
        "Read CSV file into PySpark DataFrame"
      ],
      "metadata": {
        "id": "04qDLVpHaCRg"
      }
    },
    {
      "cell_type": "code",
      "source": [
        "csv_file_path = 'ipdr.csv'\n",
        "\n",
        "df = spark.read.csv(csv_file_path, header=True, inferSchema=True)\n",
        "\n",
        "# Show the first few rows of the DataFrame\n",
        "df.show()"
      ],
      "metadata": {
        "colab": {
          "base_uri": "https://localhost:8080/"
        },
        "collapsed": true,
        "id": "XvbNrm4GaErh",
        "outputId": "de2d9937-4733-4578-f5f1-687276a6768f"
      },
      "execution_count": 37,
      "outputs": [
        {
          "output_type": "stream",
          "name": "stdout",
          "text": [
            "+------------------+------------------+------+--------+--------+------+\n",
            "|         starttime|           endtime|msisdn|ulvolume|dlvolume|domain|\n",
            "+------------------+------------------+------+--------+--------+------+\n",
            "|2021-04-0212:23:10|2021-04-0212:24:48|     1|   10819|    9960|  app1|\n",
            "|2021-04-0212:28:56|2021-04-0212:33:12|     1|   16067|   10663|  app1|\n",
            "|2021-04-0216:24:21|2021-04-0216:38:28|     2|    1173|    4265|  app1|\n",
            "|2021-04-0215:08:57|2021-04-0215:20:56|     2|    1200|     192|  app2|\n",
            "|2021-04-0215:08:57|2021-04-0215:20:41|     2|  175130|  101657|  app2|\n",
            "|2021-04-0215:09:22|2021-04-0215:21:02|     2|    1440|       0|  app2|\n",
            "|2021-04-0215:09:22|2021-04-0215:20:35|     2|    3672|    1152|  app2|\n",
            "|2021-04-0215:09:22|2021-04-0215:21:08|     2|    1440|       0|  app2|\n",
            "|2021-04-0215:54:46|2021-04-0216:11:49|     3|   10932|    5504|  app3|\n",
            "|2021-04-0215:54:46|2021-04-0215:55:34|     3|     500|     580|  app3|\n",
            "|2021-04-0215:54:46|2021-04-0215:54:47|     3|     592|     656|  app3|\n",
            "|2021-04-0215:54:46|2021-04-0216:11:48|     3|  382607|  350215|  app3|\n",
            "|2021-04-0215:54:46|2021-04-0216:11:44|     3|    7728|    5392|  app3|\n",
            "|2021-04-0215:54:46|2021-04-0216:11:30|     3| 1702305| 1439409|  app3|\n",
            "|2021-04-0212:13:11|2021-04-0212:23:27|     3|     271|    6030|  app4|\n",
            "|2021-04-0216:15:17|2021-04-0216:25:24|     3|    3524|     663|  app4|\n",
            "|2021-04-0217:38:02|2021-04-0217:50:15|     3| 3358597| 3733223|  app4|\n",
            "|2021-04-0217:44:16|2021-04-0217:57:03|     3| 4672568| 4547960|  app4|\n",
            "|2021-04-0212:14:42|2021-04-0212:24:56|     4|    1456|     968|  app3|\n",
            "|2021-04-0212:14:43|2021-04-0212:14:43|     4|     524|     488|  app3|\n",
            "+------------------+------------------+------+--------+--------+------+\n",
            "only showing top 20 rows\n",
            "\n"
          ]
        }
      ]
    },
    {
      "cell_type": "code",
      "source": [],
      "metadata": {
        "id": "pP-SqmNOdw3B"
      },
      "execution_count": null,
      "outputs": []
    },
    {
      "cell_type": "markdown",
      "source": [
        "# Selecting each MSISDN and specific start and end datetime domain/app-wise."
      ],
      "metadata": {
        "id": "cYekbGWJd0eg"
      }
    },
    {
      "cell_type": "code",
      "source": [
        "from pyspark.sql.functions import unix_timestamp, from_unixtime, col\n",
        "from pyspark.sql.types import TimestampType\n",
        "\n",
        "# Create a temporary view for SQL queries\n",
        "df.createOrReplaceTempView(\"ipdr\")\n",
        "\n",
        "# Select each MSISDN and specific start and end datetime domain/app-wise\n",
        "query = \"\"\"\n",
        "SELECT\n",
        "    msisdn,\n",
        "    domain,\n",
        "    MIN(starttime) AS Start_Time,\n",
        "    MAX(endtime) AS End_Time,\n",
        "    SUM(dlvolume) AS Total_DL_Volume,\n",
        "    SUM(ulvolume) AS Total_UL_Volume\n",
        "FROM ipdr\n",
        "GROUP BY msisdn, domain\n",
        "\"\"\"\n",
        "grouped_df = spark.sql(query)\n",
        "\n",
        "# Convert Start_Time and End_Time columns to TimestampType\n",
        "grouped_df = grouped_df.withColumn(\"Start_Time\", from_unixtime(unix_timestamp(col(\"Start_Time\"), \"yyyy-MM-ddHH:mm:ss\"), \"yyyy-MM-dd HH:mm:ss\").cast(TimestampType()))\n",
        "grouped_df = grouped_df.withColumn(\"End_Time\", from_unixtime(unix_timestamp(col(\"End_Time\"), \"yyyy-MM-ddHH:mm:ss\"), \"yyyy-MM-dd HH:mm:ss\").cast(TimestampType()))\n",
        "\n",
        "# Register the DataFrame as a temp view\n",
        "grouped_df.createOrReplaceTempView(\"grouped_ipdr\")\n",
        "\n",
        "# Show the result\n",
        "grouped_df.show()\n",
        "\n",
        "\n",
        "\n",
        "\n"
      ],
      "metadata": {
        "colab": {
          "base_uri": "https://localhost:8080/"
        },
        "id": "L9tTDb3Md25x",
        "outputId": "23620a4e-a10a-4a1e-d3c9-62ee9414f829"
      },
      "execution_count": 38,
      "outputs": [
        {
          "output_type": "stream",
          "name": "stdout",
          "text": [
            "+------+------+-------------------+-------------------+---------------+---------------+\n",
            "|msisdn|domain|         Start_Time|           End_Time|Total_DL_Volume|Total_UL_Volume|\n",
            "+------+------+-------------------+-------------------+---------------+---------------+\n",
            "|     1|  app1|2021-04-02 12:23:10|2021-04-02 12:33:12|          20623|          26886|\n",
            "|     2|  app1|2021-04-02 16:24:21|2021-04-02 16:38:28|           4265|           1173|\n",
            "|     2|  app2|2021-04-02 15:08:57|2021-04-02 15:21:08|         103001|         182882|\n",
            "|     3|  app3|2021-04-02 15:54:46|2021-04-02 16:11:49|        1801756|        2104664|\n",
            "|     3|  app4|2021-04-02 12:13:11|2021-04-02 17:57:03|        8287876|        8034960|\n",
            "|     4|  app3|2021-04-02 12:14:42|2021-04-02 21:04:25|         415065|         667564|\n",
            "|     4|  app4|2021-04-02 22:27:36|2021-04-02 22:34:55|          33656|         218076|\n",
            "+------+------+-------------------+-------------------+---------------+---------------+\n",
            "\n"
          ]
        }
      ]
    },
    {
      "cell_type": "markdown",
      "source": [
        "## Calculate start time (ST), end time (ET), and adjusted ET."
      ],
      "metadata": {
        "id": "gjENmsI2kzhk"
      }
    },
    {
      "cell_type": "code",
      "source": [
        "# Calculate start time (ST), end time (ET), and adjusted ET\n",
        "# Calculate adjusted end time (Adjusted_ET)\n",
        "adjusted_query = \"\"\"\n",
        "SELECT\n",
        "    *,\n",
        "    unix_timestamp(End_Time) AS Unix_End_Time,\n",
        "    unix_timestamp(Start_Time) AS Unix_Start_Time,\n",
        "    CASE\n",
        "        WHEN unix_timestamp(End_Time) - 600 < unix_timestamp(Start_Time) THEN End_Time\n",
        "        ELSE from_unixtime(unix_timestamp(End_Time) - 600)\n",
        "    END AS Adjusted_ET\n",
        "FROM grouped_ipdr\n",
        "\"\"\"\n",
        "adjusted_df = spark.sql(adjusted_query)\n",
        "adjusted_df.createOrReplaceTempView(\"adjusted_ipdr\")\n",
        "adjusted_df.show()\n"
      ],
      "metadata": {
        "colab": {
          "base_uri": "https://localhost:8080/"
        },
        "id": "fLgchGwPk7JB",
        "outputId": "c78e0ff5-d7a2-4f42-8fa9-910cc3bdcd0a"
      },
      "execution_count": 31,
      "outputs": [
        {
          "output_type": "stream",
          "name": "stdout",
          "text": [
            "+------+------+-------------------+-------------------+---------------+---------------+-------------+---------------+-------------------+\n",
            "|msisdn|domain|         Start_Time|           End_Time|Total_DL_Volume|Total_UL_Volume|Unix_End_Time|Unix_Start_Time|        Adjusted_ET|\n",
            "+------+------+-------------------+-------------------+---------------+---------------+-------------+---------------+-------------------+\n",
            "|     1|  app1|2021-04-02 12:23:10|2021-04-02 12:33:12|          20623|          26886|   1617366792|     1617366190|2021-04-02 12:23:12|\n",
            "|     2|  app1|2021-04-02 16:24:21|2021-04-02 16:38:28|           4265|           1173|   1617381508|     1617380661|2021-04-02 16:28:28|\n",
            "|     2|  app2|2021-04-02 15:08:57|2021-04-02 15:21:08|         103001|         182882|   1617376868|     1617376137|2021-04-02 15:11:08|\n",
            "|     3|  app3|2021-04-02 15:54:46|2021-04-02 16:11:49|        1801756|        2104664|   1617379909|     1617378886|2021-04-02 16:01:49|\n",
            "|     3|  app4|2021-04-02 12:13:11|2021-04-02 17:57:03|        8287876|        8034960|   1617386223|     1617365591|2021-04-02 17:47:03|\n",
            "|     4|  app3|2021-04-02 12:14:42|2021-04-02 21:04:25|         415065|         667564|   1617397465|     1617365682|2021-04-02 20:54:25|\n",
            "|     4|  app4|2021-04-02 22:27:36|2021-04-02 22:34:55|          33656|         218076|   1617402895|     1617402456|2021-04-02 22:34:55|\n",
            "+------+------+-------------------+-------------------+---------------+---------------+-------------+---------------+-------------------+\n",
            "\n"
          ]
        }
      ]
    },
    {
      "cell_type": "markdown",
      "source": [
        "## Calculating total volume in Kb, total time in seconds, and bit rate in kbps."
      ],
      "metadata": {
        "id": "Ix2x1QOEnfXr"
      }
    },
    {
      "cell_type": "code",
      "source": [
        "from pyspark.sql.functions import unix_timestamp, col\n",
        "\n",
        "# Calculate total volume in Kb and total time in seconds\n",
        "query = \"\"\"\n",
        "SELECT\n",
        "    *,\n",
        "    (Total_DL_Volume + Total_UL_Volume) / 1024 AS Total_Volume_Kb,\n",
        "    (UNIX_TIMESTAMP(End_Time, \"yyyy-MM-ddHH:mm:ss\") - UNIX_TIMESTAMP(Start_Time, \"yyyy-MM-ddHH:mm:ss\")) AS Total_Time_Sec\n",
        "FROM adjusted_ipdr\n",
        "\"\"\"\n",
        "volume_time_df = spark.sql(query)\n",
        "volume_time_df.createOrReplaceTempView(\"volume_time_ipdr\")\n",
        "volume_time_df.show()\n",
        "\n",
        "# Calculate bit rate in kbps\n",
        "query = \"\"\"\n",
        "SELECT\n",
        "    *,\n",
        "    (Total_Volume_Kb / Total_Time_Sec) * 8 AS Bit_Rate_Kbps\n",
        "FROM volume_time_ipdr\n",
        "\"\"\"\n",
        "bit_rate_df = spark.sql(query)\n",
        "bit_rate_df.createOrReplaceTempView(\"bit_rate_ipdr\")\n",
        "bit_rate_df.show()\n",
        "\n"
      ],
      "metadata": {
        "colab": {
          "base_uri": "https://localhost:8080/"
        },
        "id": "thOk3Goznlg2",
        "outputId": "6b10ca6e-350b-4b40-cfe9-fb0949da8dbc"
      },
      "execution_count": 32,
      "outputs": [
        {
          "output_type": "stream",
          "name": "stdout",
          "text": [
            "+------+------+-------------------+-------------------+---------------+---------------+-------------+---------------+-------------------+---------------+--------------+\n",
            "|msisdn|domain|         Start_Time|           End_Time|Total_DL_Volume|Total_UL_Volume|Unix_End_Time|Unix_Start_Time|        Adjusted_ET|Total_Volume_Kb|Total_Time_Sec|\n",
            "+------+------+-------------------+-------------------+---------------+---------------+-------------+---------------+-------------------+---------------+--------------+\n",
            "|     1|  app1|2021-04-02 12:23:10|2021-04-02 12:33:12|          20623|          26886|   1617366792|     1617366190|2021-04-02 12:23:12|  46.3955078125|           602|\n",
            "|     2|  app1|2021-04-02 16:24:21|2021-04-02 16:38:28|           4265|           1173|   1617381508|     1617380661|2021-04-02 16:28:28|    5.310546875|           847|\n",
            "|     2|  app2|2021-04-02 15:08:57|2021-04-02 15:21:08|         103001|         182882|   1617376868|     1617376137|2021-04-02 15:11:08| 279.1826171875|           731|\n",
            "|     3|  app3|2021-04-02 15:54:46|2021-04-02 16:11:49|        1801756|        2104664|   1617379909|     1617378886|2021-04-02 16:01:49|  3814.86328125|          1023|\n",
            "|     3|  app4|2021-04-02 12:13:11|2021-04-02 17:57:03|        8287876|        8034960|   1617386223|     1617365591|2021-04-02 17:47:03| 15940.26953125|         20632|\n",
            "|     4|  app3|2021-04-02 12:14:42|2021-04-02 21:04:25|         415065|         667564|   1617397465|     1617365682|2021-04-02 20:54:25|1057.2548828125|         31783|\n",
            "|     4|  app4|2021-04-02 22:27:36|2021-04-02 22:34:55|          33656|         218076|   1617402895|     1617402456|2021-04-02 22:34:55|   245.83203125|           439|\n",
            "+------+------+-------------------+-------------------+---------------+---------------+-------------+---------------+-------------------+---------------+--------------+\n",
            "\n",
            "+------+------+-------------------+-------------------+---------------+---------------+-------------+---------------+-------------------+---------------+--------------+-------------------+\n",
            "|msisdn|domain|         Start_Time|           End_Time|Total_DL_Volume|Total_UL_Volume|Unix_End_Time|Unix_Start_Time|        Adjusted_ET|Total_Volume_Kb|Total_Time_Sec|      Bit_Rate_Kbps|\n",
            "+------+------+-------------------+-------------------+---------------+---------------+-------------+---------------+-------------------+---------------+--------------+-------------------+\n",
            "|     1|  app1|2021-04-02 12:23:10|2021-04-02 12:33:12|          20623|          26886|   1617366792|     1617366190|2021-04-02 12:23:12|  46.3955078125|           602| 0.6165515988372093|\n",
            "|     2|  app1|2021-04-02 16:24:21|2021-04-02 16:38:28|           4265|           1173|   1617381508|     1617380661|2021-04-02 16:28:28|    5.310546875|           847| 0.0501586481700118|\n",
            "|     2|  app2|2021-04-02 15:08:57|2021-04-02 15:21:08|         103001|         182882|   1617376868|     1617376137|2021-04-02 15:11:08| 279.1826171875|           731| 3.0553501196990425|\n",
            "|     3|  app3|2021-04-02 15:54:46|2021-04-02 16:11:49|        1801756|        2104664|   1617379909|     1617378886|2021-04-02 16:01:49|  3814.86328125|          1023|  29.83275293255132|\n",
            "|     3|  app4|2021-04-02 12:13:11|2021-04-02 17:57:03|        8287876|        8034960|   1617386223|     1617365591|2021-04-02 17:47:03| 15940.26953125|         20632|  6.180794699980613|\n",
            "|     4|  app3|2021-04-02 12:14:42|2021-04-02 21:04:25|         415065|         667564|   1617397465|     1617365682|2021-04-02 20:54:25|1057.2548828125|         31783|0.26611833566686593|\n",
            "|     4|  app4|2021-04-02 22:27:36|2021-04-02 22:34:55|          33656|         218076|   1617402895|     1617402456|2021-04-02 22:34:55|   245.83203125|           439|  4.479854783599089|\n",
            "+------+------+-------------------+-------------------+---------------+---------------+-------------+---------------+-------------------+---------------+--------------+-------------------+\n",
            "\n"
          ]
        }
      ]
    },
    {
      "cell_type": "markdown",
      "source": [
        "## Identifying audio and video calls and their counts."
      ],
      "metadata": {
        "id": "C-xJfcYFrYrt"
      }
    },
    {
      "cell_type": "code",
      "source": [
        "# Identify audio and video calls and their counts\n",
        "query = \"\"\"\n",
        "SELECT\n",
        "    *,\n",
        "    CASE\n",
        "        WHEN Bit_Rate_Kbps <= 200 THEN 1\n",
        "        ELSE 0\n",
        "    END AS isAudio,\n",
        "    CASE\n",
        "        WHEN Bit_Rate_Kbps > 200 THEN 1\n",
        "        ELSE 0\n",
        "    END AS isVideo\n",
        "FROM bit_rate_ipdr\n",
        "\"\"\"\n",
        "final_df = spark.sql(query)\n",
        "final_df.show()\n",
        "\n"
      ],
      "metadata": {
        "colab": {
          "base_uri": "https://localhost:8080/"
        },
        "id": "WxdOTjEircMv",
        "outputId": "92e655eb-4f2c-4b38-c827-1bd36ab08c5b"
      },
      "execution_count": 34,
      "outputs": [
        {
          "output_type": "stream",
          "name": "stdout",
          "text": [
            "+------+------+-------------------+-------------------+---------------+---------------+-------------+---------------+-------------------+---------------+--------------+-------------------+-------+-------+\n",
            "|msisdn|domain|         Start_Time|           End_Time|Total_DL_Volume|Total_UL_Volume|Unix_End_Time|Unix_Start_Time|        Adjusted_ET|Total_Volume_Kb|Total_Time_Sec|      Bit_Rate_Kbps|isAudio|isVideo|\n",
            "+------+------+-------------------+-------------------+---------------+---------------+-------------+---------------+-------------------+---------------+--------------+-------------------+-------+-------+\n",
            "|     1|  app1|2021-04-02 12:23:10|2021-04-02 12:33:12|          20623|          26886|   1617366792|     1617366190|2021-04-02 12:23:12|  46.3955078125|           602| 0.6165515988372093|      1|      0|\n",
            "|     2|  app1|2021-04-02 16:24:21|2021-04-02 16:38:28|           4265|           1173|   1617381508|     1617380661|2021-04-02 16:28:28|    5.310546875|           847| 0.0501586481700118|      1|      0|\n",
            "|     2|  app2|2021-04-02 15:08:57|2021-04-02 15:21:08|         103001|         182882|   1617376868|     1617376137|2021-04-02 15:11:08| 279.1826171875|           731| 3.0553501196990425|      1|      0|\n",
            "|     3|  app3|2021-04-02 15:54:46|2021-04-02 16:11:49|        1801756|        2104664|   1617379909|     1617378886|2021-04-02 16:01:49|  3814.86328125|          1023|  29.83275293255132|      1|      0|\n",
            "|     3|  app4|2021-04-02 12:13:11|2021-04-02 17:57:03|        8287876|        8034960|   1617386223|     1617365591|2021-04-02 17:47:03| 15940.26953125|         20632|  6.180794699980613|      1|      0|\n",
            "|     4|  app3|2021-04-02 12:14:42|2021-04-02 21:04:25|         415065|         667564|   1617397465|     1617365682|2021-04-02 20:54:25|1057.2548828125|         31783|0.26611833566686593|      1|      0|\n",
            "|     4|  app4|2021-04-02 22:27:36|2021-04-02 22:34:55|          33656|         218076|   1617402895|     1617402456|2021-04-02 22:34:55|   245.83203125|           439|  4.479854783599089|      1|      0|\n",
            "+------+------+-------------------+-------------------+---------------+---------------+-------------+---------------+-------------------+---------------+--------------+-------------------+-------+-------+\n",
            "\n"
          ]
        }
      ]
    }
  ]
}